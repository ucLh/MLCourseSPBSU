{
 "cells": [
  {
   "cell_type": "code",
   "execution_count": 1,
   "metadata": {},
   "outputs": [],
   "source": [
    "import numpy as np\n",
    "import matplotlib.pyplot as plt\n",
    "from random import shuffle\n",
    "from tqdm import tqdm"
   ]
  },
  {
   "cell_type": "code",
   "execution_count": 2,
   "metadata": {},
   "outputs": [],
   "source": [
    "num_nodes = 196591  # number of graph nodes (users)\n",
    "num_edges = 950327  # number of graph edges (connections)\n",
    "num_check_ins = 6442890  # check-ins"
   ]
  },
  {
   "cell_type": "markdown",
   "metadata": {},
   "source": [
    "### Data preprocessing"
   ]
  },
  {
   "cell_type": "code",
   "execution_count": 3,
   "metadata": {},
   "outputs": [],
   "source": [
    "edge_list = []  # list of all connections\n",
    "nodes = set()  # set of all users\n",
    "s_list = []  # similarity array (without self-similarity)\n",
    "with open('Gowalla_edges.txt', 'r') as f:\n",
    "    for line in f:\n",
    "        line = line.rstrip()\n",
    "        user_1, user_2 = line.split()\n",
    "        # fill the edges list with connections (user_1 is friends with user_2)\n",
    "        edge_list.append((int(user_1), int(user_2)))\n",
    "        nodes.add((int(user_1)))\n",
    "        # mark each friendship as 1 plus some noise in similarity\n",
    "        s_list.append(1)\n",
    "        \n",
    "# add \"self to self\" connections, their indexes start from num_edges * 2\n",
    "for node in nodes:\n",
    "    edge_list.append((node, node))\n",
    "\n",
    "s_array = np.array(s_list, dtype=np.int8)"
   ]
  },
  {
   "cell_type": "markdown",
   "metadata": {},
   "source": [
    "### Clusterization"
   ]
  },
  {
   "cell_type": "markdown",
   "metadata": {},
   "source": [
    "Define necessary functions"
   ]
  },
  {
   "cell_type": "code",
   "execution_count": 4,
   "metadata": {},
   "outputs": [],
   "source": [
    "def affinity_propagation(s, edges, max_iters, self_similarity_val):\n",
    "    # form self-similarity array\n",
    "    self_s = np.full(num_nodes, self_similarity_val)\n",
    "    # form full similarity array (self-similarity values will start at index num_edges * 2)\n",
    "    similarity = np.append(s, self_s)\n",
    "    # initialise availability и responsibility with zeros\n",
    "    responsibility = np.zeros(similarity.shape[0])\n",
    "    availability = np.zeros(similarity.shape[0])\n",
    "    \n",
    "    for j in tqdm(range(max_iters)):\n",
    "        # update responsibility\n",
    "        responsibility = update_responsibility(similarity, availability, edges)\n",
    "        # update availability\n",
    "        availability = update_availability(availability, responsibility, edges)\n",
    "    # get cluster exmplars for each user\n",
    "    exemplars = get_exemplars(availability, responsibility, edge_list)\n",
    "    \n",
    "    return exemplars"
   ]
  },
  {
   "cell_type": "code",
   "execution_count": 5,
   "metadata": {},
   "outputs": [],
   "source": [
    "def update_responsibility(S, A, edges):\n",
    "    max_1 = np.full(num_nodes, -np.inf)\n",
    "    max_2 = np.full(num_nodes, -np.inf)\n",
    "    max_users = np.full(num_nodes, np.inf)\n",
    "    # sum similarity and availability\n",
    "    S_A = S + A\n",
    "    # iterate over edges list\n",
    "    for i, (user_1, user_2) in enumerate(edges):\n",
    "        # find 2 highest values of s(i, j) + a(i, j) for each user\n",
    "        if max_1[user_1] < S_A[i]:\n",
    "            max_2[user_1] = max_1[user_1]\n",
    "            max_1[user_1] = S_A[i]\n",
    "            # remember user_2 that maximum value of s(i, j) + a(i, j) with user_1\n",
    "            max_users[user_1] = user_2\n",
    "        elif max_2[user_1] < S_A[i]:\n",
    "            max_2[user_1] = S_A[i]\n",
    "    # Copy S into R\n",
    "    R = S.copy()\n",
    "\n",
    "    # Now subtract either max_1 or max_2 depending on the max_users\n",
    "    for i, (user_1, user_2) in enumerate(edges):\n",
    "        if max_users[user_1] == user_2:\n",
    "            R[i] -= max_2[user_1]\n",
    "        else:\n",
    "            R[i] -= max_1[user_1]\n",
    "    \n",
    "    return R"
   ]
  },
  {
   "cell_type": "code",
   "execution_count": 6,
   "metadata": {},
   "outputs": [],
   "source": [
    "def update_availability(A, R, edges):\n",
    "    # prepare for max(0, r(j, n)) part of the formula\n",
    "    # we are not modifying self-r values here\n",
    "    R_copy = R.copy()\n",
    "    for i in range(num_edges * 2):\n",
    "        if R_copy[i] < 0:\n",
    "            R_copy[i] = 0\n",
    "    # now we are making the sum of max(0, r(j, n))\n",
    "    positive_r = np.zeros(num_nodes)\n",
    "    for idx, (user_1, user_2) in enumerate(edges):\n",
    "        positive_r[user_2] += R_copy[idx]\n",
    "    # update availability\n",
    "    for idx, (user_1, user_2) in enumerate(edges):\n",
    "        # for indexes lesser than num_edges*2 subtract r(i, n) summed before,\n",
    "        # r(n, n) wasn't summed (indexes lesser than num_edges*2);\n",
    "        # for indexes greater tan num_edges*2 subtract r(n, n) summed before;\n",
    "        A[idx] = positive_r[user_2] - R_copy[idx]\n",
    "\n",
    "    # the min part of a(i, n) where i != n\n",
    "    for i in range(num_edges * 2):\n",
    "        A[i] = np.min([0, A[i]])\n",
    "    \n",
    "    return A"
   ]
  },
  {
   "cell_type": "code",
   "execution_count": 7,
   "metadata": {},
   "outputs": [],
   "source": [
    "def get_exemplars(A, R, edges):\n",
    "    temp = np.full(num_nodes, -np.inf)\n",
    "    exemplars = dict()\n",
    "    # sum availability and responsibility\n",
    "    sum_a_r = A + R\n",
    "    # for each user_1 find user_2 with maximum a(i, j) + r(i, j)\n",
    "    for i, (user_1, user_2) in enumerate(edges):\n",
    "        if sum_a_r[i] > temp[user_1]:\n",
    "            temp[user_1] = sum_a_r[i]\n",
    "            exemplars[user_1] = user_2\n",
    "    \n",
    "    return exemplars"
   ]
  },
  {
   "cell_type": "markdown",
   "metadata": {},
   "source": [
    "Run algorithm"
   ]
  },
  {
   "cell_type": "code",
   "execution_count": 8,
   "metadata": {},
   "outputs": [
    {
     "name": "stderr",
     "output_type": "stream",
     "text": [
      "100%|██████████| 10/10 [02:58<00:00, 17.84s/it]\n"
     ]
    }
   ],
   "source": [
    "exemplars_ = affinity_propagation(s_array, edge_list, 10, -1.4)"
   ]
  },
  {
   "cell_type": "code",
   "execution_count": 9,
   "metadata": {},
   "outputs": [
    {
     "data": {
      "text/plain": [
       "47628"
      ]
     },
     "execution_count": 9,
     "metadata": {},
     "output_type": "execute_result"
    }
   ],
   "source": [
    "len(set(exemplars_.values()))  # Number of clusters"
   ]
  },
  {
   "cell_type": "markdown",
   "metadata": {},
   "source": [
    "A little bit of analysis"
   ]
  },
  {
   "cell_type": "code",
   "execution_count": 10,
   "metadata": {},
   "outputs": [],
   "source": [
    "# Get sizes of each cluster\n",
    "clusters_lens = dict()\n",
    "for exemplar in exemplars_.values():\n",
    "    if exemplar not in clusters_lens:\n",
    "        clusters_lens[exemplar] = 1\n",
    "    else:\n",
    "        clusters_lens[exemplar] += 1"
   ]
  },
  {
   "cell_type": "code",
   "execution_count": 11,
   "metadata": {},
   "outputs": [
    {
     "data": {
      "text/plain": [
       "9277"
      ]
     },
     "execution_count": 11,
     "metadata": {},
     "output_type": "execute_result"
    }
   ],
   "source": [
    "max(clusters_lens.values())"
   ]
  },
  {
   "cell_type": "code",
   "execution_count": 12,
   "metadata": {},
   "outputs": [
    {
     "data": {
      "text/plain": [
       "1"
      ]
     },
     "execution_count": 12,
     "metadata": {},
     "output_type": "execute_result"
    }
   ],
   "source": [
    "min(clusters_lens.values())"
   ]
  },
  {
   "cell_type": "code",
   "execution_count": 13,
   "metadata": {},
   "outputs": [
    {
     "data": {
      "image/png": "[encoded data removed]",
      "text/plain": [
       "<Figure size 432x288 with 1 Axes>"
      ]
     },
     "metadata": {
      "needs_background": "light"
     },
     "output_type": "display_data"
    }
   ],
   "source": [
    "%matplotlib inline\n",
    "plt.hist(clusters_lens.values(), bins=50, range=(0, 50))\n",
    "plt.show()"
   ]
  },
  {
   "cell_type": "markdown",
   "metadata": {},
   "source": [
    "### Evaluate results"
   ]
  },
  {
   "cell_type": "markdown",
   "metadata": {},
   "source": [
    "Load all check-ins"
   ]
  },
  {
   "cell_type": "code",
   "execution_count": 14,
   "metadata": {},
   "outputs": [],
   "source": [
    "check_ins_list = []\n",
    "with open('Gowalla_totalCheckins.txt', 'r') as f:\n",
    "    for line in f:\n",
    "        line = line.rstrip()\n",
    "        list_str = line.split()\n",
    "        user = int(list_str[0])\n",
    "        place = int(list_str[-1])\n",
    "        check_ins_list.append((user, place))\n",
    "\n",
    "# Shuffle check-ins\n",
    "shuffle(check_ins_list)"
   ]
  },
  {
   "cell_type": "code",
   "execution_count": 15,
   "metadata": {},
   "outputs": [
    {
     "data": {
      "text/plain": [
       "107092"
      ]
     },
     "execution_count": 15,
     "metadata": {},
     "output_type": "execute_result"
    }
   ],
   "source": [
    "len(set(map(lambda x: x[0], check_ins_list)))  # number of users that have checked in"
   ]
  },
  {
   "cell_type": "markdown",
   "metadata": {},
   "source": [
    "Create train and test sets"
   ]
  },
  {
   "cell_type": "code",
   "execution_count": 16,
   "metadata": {},
   "outputs": [],
   "source": [
    "users_test = set()\n",
    "users_train = set()\n",
    "for check_in in check_ins_list:\n",
    "    user = check_in[0]\n",
    "    if len(users_test) < 10000:\n",
    "        users_test.add(user)\n",
    "    elif user not in users_test:\n",
    "        users_train.add(user)"
   ]
  },
  {
   "cell_type": "markdown",
   "metadata": {},
   "source": [
    "В качестве baseline возьмем гипотезу о том, что все пользователи находятся в 1 кластере. Мерить качество будем мерить метрикой precision@10. На тренеровочной выборке определим 10 локаций с самым большим числом чекинов."
   ]
  },
  {
   "cell_type": "markdown",
   "metadata": {},
   "source": [
    "First up, a naive approach. Simply recommend top-10 overall places."
   ]
  },
  {
   "cell_type": "code",
   "execution_count": 17,
   "metadata": {},
   "outputs": [],
   "source": [
    "places = dict()\n",
    "for (user, place) in check_ins_list:\n",
    "    if user in users_train:\n",
    "        if place not in places.keys():\n",
    "            places[place] = 1\n",
    "        else:\n",
    "            places[place] += 1"
   ]
  },
  {
   "cell_type": "markdown",
   "metadata": {},
   "source": [
    "Find top-10 locations"
   ]
  },
  {
   "cell_type": "code",
   "execution_count": 18,
   "metadata": {},
   "outputs": [
    {
     "data": {
      "text/plain": [
       "[55033, 19542, 9410, 10259, 58725, 66171, 9246, 10190, 14470, 23256]"
      ]
     },
     "execution_count": 18,
     "metadata": {},
     "output_type": "execute_result"
    }
   ],
   "source": [
    "places = [[k, v] for k, v in sorted(places.items(), key=lambda item: item[1], reverse=True)]\n",
    "n = 10\n",
    "top_n_places = [place[0] for place in places[:n]]\n",
    "top_n_places"
   ]
  },
  {
   "cell_type": "markdown",
   "metadata": {},
   "source": [
    "Здесь для ясности сбиваюсь на русский. \n",
    "Насколько я понял, считать метрику для оценки результатов работы предсказаний надо считать так:\n",
    "1. Если настоящее место есть в списке из n (в нашем случае 10) предсказанных, то засчитаем совпадение (match, матч)\n",
    "2. Суммируем все матчи\n",
    "3. Делим их на n\n",
    "4. Агрегируем данные по всем пользователям (берём среднее)"
   ]
  },
  {
   "cell_type": "code",
   "execution_count": 19,
   "metadata": {},
   "outputs": [],
   "source": [
    "matches = 0\n",
    "for (user, place) in check_ins_list:\n",
    "    if user in users_test:\n",
    "        if place in top_n_places:\n",
    "            matches += 1\n",
    "metrics_naive = matches / (n * len(users_test))"
   ]
  },
  {
   "cell_type": "code",
   "execution_count": 20,
   "metadata": {},
   "outputs": [
    {
     "data": {
      "text/plain": [
       "0.12523"
      ]
     },
     "execution_count": 20,
     "metadata": {},
     "output_type": "execute_result"
    }
   ],
   "source": [
    "metrics_naive"
   ]
  },
  {
   "cell_type": "markdown",
   "metadata": {},
   "source": [
    "Now lets use our clusters. We need to find all places visited by users in the clusters."
   ]
  },
  {
   "cell_type": "code",
   "execution_count": 21,
   "metadata": {},
   "outputs": [],
   "source": [
    "places_by_cluster = dict()\n",
    "for (user, place) in check_ins_list:\n",
    "    if user in users_train:\n",
    "        exemplar = exemplars_[user]\n",
    "        if exemplar not in places_by_cluster.keys():\n",
    "            places_by_cluster[exemplar] = dict()\n",
    "        else:\n",
    "            if place not in places_by_cluster[exemplar].keys():\n",
    "                places_by_cluster[exemplar][place] = 1\n",
    "            else:\n",
    "                places_by_cluster[exemplar][place] += 1"
   ]
  },
  {
   "cell_type": "markdown",
   "metadata": {},
   "source": [
    "Now we sort locations and find top-10 of them."
   ]
  },
  {
   "cell_type": "code",
   "execution_count": 22,
   "metadata": {},
   "outputs": [],
   "source": [
    "top_n_places_for_clusters = dict()\n",
    "for exemplar in places_by_cluster:\n",
    "    places_by_cluster[exemplar] = [[k, v] for k, v in sorted(places_by_cluster[exemplar].items(), key=lambda item: item[1], reverse=True)]\n",
    "for exemplar in places_by_cluster:\n",
    "    top_n_places_for_clusters[exemplar] = [place[0] for place in places_by_cluster[exemplar][:n]]"
   ]
  },
  {
   "cell_type": "code",
   "execution_count": 23,
   "metadata": {},
   "outputs": [
    {
     "data": {
      "text/plain": [
       "[420315, 21714, 19542, 9410, 8947, 182310, 9246, 9241, 32308, 10740]"
      ]
     },
     "execution_count": 23,
     "metadata": {},
     "output_type": "execute_result"
    }
   ],
   "source": [
    "top_n_places_for_clusters[0]"
   ]
  },
  {
   "cell_type": "markdown",
   "metadata": {},
   "source": [
    "Calculate metrics."
   ]
  },
  {
   "cell_type": "code",
   "execution_count": 24,
   "metadata": {},
   "outputs": [],
   "source": [
    "matches = 0\n",
    "m = 0\n",
    "for (user, place) in check_ins_list:\n",
    "    if user in users_test:\n",
    "        exemplar = exemplars_[user]\n",
    "        m += 1\n",
    "        if exemplar in top_n_places_for_clusters and place in top_n_places_for_clusters[exemplar]:\n",
    "            matches += 1\n",
    "metrics_cluster = matches / (len(users_test) * 10)"
   ]
  },
  {
   "cell_type": "code",
   "execution_count": 25,
   "metadata": {},
   "outputs": [
    {
     "data": {
      "text/plain": [
       "0.51933"
      ]
     },
     "execution_count": 25,
     "metadata": {},
     "output_type": "execute_result"
    }
   ],
   "source": [
    "metrics_cluster"
   ]
  },
  {
   "cell_type": "markdown",
   "metadata": {},
   "source": [
    "### Conclusion\n",
    "All in all, we've seen metrics uplift to 0.51 vs 0.13 with the naive approach. Some info:\n",
    "\n",
    "Number of iterations: 10\n",
    "\n",
    "Self-similarity: -1.4\n",
    "\n",
    "Number of clusters: 47628\n",
    "\n",
    "Largest cluster size: 9277\n",
    "\n",
    "Smallest cluster size: 1"
   ]
  }
 ],
 "metadata": {
  "kernelspec": {
   "display_name": "Python 3",
   "language": "python",
   "name": "python3"
  },
  "language_info": {
   "codemirror_mode": {
    "name": "ipython",
    "version": 3
   },
   "file_extension": ".py",
   "mimetype": "text/x-python",
   "name": "python",
   "nbconvert_exporter": "python",
   "pygments_lexer": "ipython3",
   "version": "3.8.5"
  }
 },
 "nbformat": 4,
 "nbformat_minor": 2
}
